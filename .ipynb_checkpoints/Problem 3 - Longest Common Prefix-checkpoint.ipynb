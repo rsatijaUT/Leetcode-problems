{
 "cells": [
  {
   "cell_type": "code",
   "execution_count": 27,
   "id": "6336141d",
   "metadata": {},
   "outputs": [
    {
     "name": "stdout",
     "output_type": "stream",
     "text": [
      "fl\n"
     ]
    }
   ],
   "source": [
    "strs=[\"flower\",\"flow\",\"flight\"]\n",
    "# strs=[\"reflower\",\"flow\",\"flight\"]\n",
    "lens=[len(s) for s in strs]\n",
    "small_ind=lens.index(min(lens))\n",
    "prefix=strs.pop(small_ind)\n",
    "\n",
    "while len(prefix)>0:\n",
    "    if all(prefix in s[:len(prefix)] for s in strs):\n",
    "        break\n",
    "    prefix=prefix[:-1]\n",
    "\n",
    "print(prefix)"
   ]
  },
  {
   "cell_type": "code",
   "execution_count": null,
   "id": "f614b866",
   "metadata": {},
   "outputs": [],
   "source": []
  }
 ],
 "metadata": {
  "kernelspec": {
   "display_name": "Python 3",
   "language": "python",
   "name": "python3"
  },
  "language_info": {
   "codemirror_mode": {
    "name": "ipython",
    "version": 3
   },
   "file_extension": ".py",
   "mimetype": "text/x-python",
   "name": "python",
   "nbconvert_exporter": "python",
   "pygments_lexer": "ipython3",
   "version": "3.7.6"
  }
 },
 "nbformat": 4,
 "nbformat_minor": 5
}
