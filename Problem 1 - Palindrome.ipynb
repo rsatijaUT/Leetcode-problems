{
 "cells": [
  {
   "cell_type": "code",
   "execution_count": 13,
   "id": "b36b6399",
   "metadata": {},
   "outputs": [],
   "source": [
    "def isPalindrome(x: int) -> bool:\n",
    "    if x<0:\n",
    "        return False\n",
    "    elif x==0:\n",
    "        return True\n",
    "    face_values=[int(i) for i in str(x)]\n",
    "    return face_values==face_values[::-1]"
   ]
  },
  {
   "cell_type": "code",
   "execution_count": 14,
   "id": "3e154afa",
   "metadata": {},
   "outputs": [
    {
     "data": {
      "text/plain": [
       "[True, False, False]"
      ]
     },
     "execution_count": 14,
     "metadata": {},
     "output_type": "execute_result"
    }
   ],
   "source": [
    "[isPalindrome(121),isPalindrome(-121),isPalindrome(10)]"
   ]
  },
  {
   "cell_type": "code",
   "execution_count": null,
   "id": "aa294fb0",
   "metadata": {},
   "outputs": [],
   "source": []
  }
 ],
 "metadata": {
  "kernelspec": {
   "display_name": "Python 3",
   "language": "python",
   "name": "python3"
  },
  "language_info": {
   "codemirror_mode": {
    "name": "ipython",
    "version": 3
   },
   "file_extension": ".py",
   "mimetype": "text/x-python",
   "name": "python",
   "nbconvert_exporter": "python",
   "pygments_lexer": "ipython3",
   "version": "3.7.6"
  }
 },
 "nbformat": 4,
 "nbformat_minor": 5
}
