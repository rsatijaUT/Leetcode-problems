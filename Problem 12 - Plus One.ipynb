{
 "cells": [
  {
   "cell_type": "code",
   "execution_count": 18,
   "id": "6e6d67a0",
   "metadata": {},
   "outputs": [],
   "source": [
    "def plusOne(digits):\n",
    "    for i in range(1,len(digits)+1):\n",
    "        if digits[-i]<9:\n",
    "            digits[-i]=digits[-i]+1\n",
    "            return digits\n",
    "        else:\n",
    "            digits[-i]=0\n",
    "#             print(digits)\n",
    "    return [1]+digits"
   ]
  },
  {
   "cell_type": "code",
   "execution_count": 21,
   "id": "a36a1466",
   "metadata": {},
   "outputs": [
    {
     "data": {
      "text/plain": [
       "[1, 2, 4]"
      ]
     },
     "execution_count": 21,
     "metadata": {},
     "output_type": "execute_result"
    }
   ],
   "source": [
    "digits = [1,2,3]\n",
    "plusOne(digits)"
   ]
  },
  {
   "cell_type": "code",
   "execution_count": 17,
   "id": "02d220fd",
   "metadata": {},
   "outputs": [
    {
     "name": "stdout",
     "output_type": "stream",
     "text": [
      "1\n",
      "[0]\n"
     ]
    }
   ],
   "source": [
    "for i in range(1,len(digits)+1):\n",
    "    print(i)\n",
    "    if digits[-i]<9:\n",
    "        digits[-i]=digits[-i]+1\n",
    "#             return digits\n",
    "    else:\n",
    "        digits[-i]=0\n",
    "        print(digits)\n",
    "#     return [1]+digits"
   ]
  },
  {
   "cell_type": "code",
   "execution_count": null,
   "id": "aae9d36e",
   "metadata": {},
   "outputs": [],
   "source": []
  }
 ],
 "metadata": {
  "kernelspec": {
   "display_name": "Python 3",
   "language": "python",
   "name": "python3"
  },
  "language_info": {
   "codemirror_mode": {
    "name": "ipython",
    "version": 3
   },
   "file_extension": ".py",
   "mimetype": "text/x-python",
   "name": "python",
   "nbconvert_exporter": "python",
   "pygments_lexer": "ipython3",
   "version": "3.7.6"
  }
 },
 "nbformat": 4,
 "nbformat_minor": 5
}
