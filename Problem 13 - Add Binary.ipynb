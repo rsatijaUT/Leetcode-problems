{
 "cells": [
  {
   "cell_type": "code",
   "execution_count": 3,
   "id": "e9b3f159",
   "metadata": {},
   "outputs": [
    {
     "data": {
      "text/plain": [
       "'100'"
      ]
     },
     "execution_count": 3,
     "metadata": {},
     "output_type": "execute_result"
    }
   ],
   "source": [
    "def addBinary(a,b):\n",
    "    c = bin(int(a,2)+int(b,2))\n",
    "    return c[2:]\n",
    "addBinary('11','1')"
   ]
  },
  {
   "cell_type": "code",
   "execution_count": null,
   "id": "20f1aca9",
   "metadata": {},
   "outputs": [],
   "source": []
  }
 ],
 "metadata": {
  "kernelspec": {
   "display_name": "Python 3",
   "language": "python",
   "name": "python3"
  },
  "language_info": {
   "codemirror_mode": {
    "name": "ipython",
    "version": 3
   },
   "file_extension": ".py",
   "mimetype": "text/x-python",
   "name": "python",
   "nbconvert_exporter": "python",
   "pygments_lexer": "ipython3",
   "version": "3.7.6"
  }
 },
 "nbformat": 4,
 "nbformat_minor": 5
}
