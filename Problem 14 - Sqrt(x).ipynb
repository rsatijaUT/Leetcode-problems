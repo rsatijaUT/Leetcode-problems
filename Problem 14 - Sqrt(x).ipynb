{
 "cells": [
  {
   "cell_type": "code",
   "execution_count": 8,
   "id": "23d4ff21",
   "metadata": {},
   "outputs": [
    {
     "data": {
      "text/plain": [
       "0"
      ]
     },
     "execution_count": 8,
     "metadata": {},
     "output_type": "execute_result"
    }
   ],
   "source": [
    "def mySqrt(x):\n",
    "#     Naive method (100 times slower)\n",
    "#     for z in range(int(x+1)):\n",
    "#         if z*z==x:\n",
    "#             return z\n",
    "#         elif z*z>x:\n",
    "#             return z-1\n",
    "    if (x == 0) or (x == 1): return x\n",
    "\n",
    "    # directly start form 1\n",
    "    l,r = 1,x\n",
    "    while l <= r:\n",
    "        mid = (l+r) // 2\n",
    "        if mid * mid <= x < (mid + 1) * (mid + 1):\n",
    "            return mid\n",
    "        elif x < mid * mid:\n",
    "            r = mid - 1\n",
    "        else:\n",
    "            l = mid + 1\n",
    "        \n",
    "mySqrt(0)"
   ]
  },
  {
   "cell_type": "code",
   "execution_count": null,
   "id": "e4133f28",
   "metadata": {},
   "outputs": [],
   "source": []
  }
 ],
 "metadata": {
  "kernelspec": {
   "display_name": "Python 3",
   "language": "python",
   "name": "python3"
  },
  "language_info": {
   "codemirror_mode": {
    "name": "ipython",
    "version": 3
   },
   "file_extension": ".py",
   "mimetype": "text/x-python",
   "name": "python",
   "nbconvert_exporter": "python",
   "pygments_lexer": "ipython3",
   "version": "3.7.6"
  }
 },
 "nbformat": 4,
 "nbformat_minor": 5
}
