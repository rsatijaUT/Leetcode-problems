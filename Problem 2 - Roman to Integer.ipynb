{
 "cells": [
  {
   "cell_type": "code",
   "execution_count": 35,
   "id": "a13d6b64",
   "metadata": {},
   "outputs": [],
   "source": [
    "def romanToInt(s: str) -> int:\n",
    "    r2imap={'I':1,'V':5,'X':10,'L':50,'C':100,'D':500,'M':1000}\n",
    "    twor2imap={'IV':4,'IX':9,'XL':40,'XC':90,'CD':400,'CM':900}\n",
    "    \n",
    "    numlist=[r2imap[n] for n in s]\n",
    "    \n",
    "    for ind in range(len(s)-1):\n",
    "        if s[ind:ind+2] in twor2imap:\n",
    "            numlist[ind]=twor2imap[s[ind:ind+2]]\n",
    "            numlist[ind+1]=0\n",
    "            \n",
    "    return sum(numlist)"
   ]
  },
  {
   "cell_type": "code",
   "execution_count": 36,
   "id": "5cd4757c",
   "metadata": {},
   "outputs": [
    {
     "data": {
      "text/plain": [
       "[3, 58, 1994]"
      ]
     },
     "execution_count": 36,
     "metadata": {},
     "output_type": "execute_result"
    }
   ],
   "source": [
    "[romanToInt('III'),romanToInt('LVIII'),romanToInt('MCMXCIV')]"
   ]
  },
  {
   "cell_type": "code",
   "execution_count": 25,
   "id": "866c1d20",
   "metadata": {},
   "outputs": [
    {
     "name": "stdout",
     "output_type": "stream",
     "text": [
      "MC [1000, 100, 1000, 10, 100, 1, 5]\n",
      "CM [1000, 900, 0, 10, 100, 1, 5]\n",
      "MX [1000, 900, 0, 10, 100, 1, 5]\n",
      "XC [1000, 900, 0, 90, 0, 1, 5]\n",
      "CI [1000, 900, 0, 90, 0, 1, 5]\n",
      "IV [1000, 900, 0, 90, 0, 4, 0]\n"
     ]
    }
   ],
   "source": [
    "test_string='MCMXCIV'\n",
    "\n",
    "r2imap={'I':1,'V':5,'X':10,'L':50,'C':100,'D':500,'M':1000}\n",
    "twor2imap={'IV':4,'IX':9,'XL':40,'XC':90,'CD':400,'CM':900}\n",
    "\n",
    "test_numlist=[r2imap[n] for n in test_string]\n",
    "for i in range(len(test_string)-1):\n",
    "    if test_string[i:i+2] in twor2imap:\n",
    "        test_numlist[i]=twor2imap[test_string[i:i+2]]\n",
    "        test_numlist[i+1]=0\n",
    "    print(test_string[i:i+2],test_numlist)"
   ]
  },
  {
   "cell_type": "code",
   "execution_count": null,
   "id": "ec3d97da",
   "metadata": {},
   "outputs": [],
   "source": []
  }
 ],
 "metadata": {
  "kernelspec": {
   "display_name": "Python 3",
   "language": "python",
   "name": "python3"
  },
  "language_info": {
   "codemirror_mode": {
    "name": "ipython",
    "version": 3
   },
   "file_extension": ".py",
   "mimetype": "text/x-python",
   "name": "python",
   "nbconvert_exporter": "python",
   "pygments_lexer": "ipython3",
   "version": "3.7.6"
  }
 },
 "nbformat": 4,
 "nbformat_minor": 5
}
