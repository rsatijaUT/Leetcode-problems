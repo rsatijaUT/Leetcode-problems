{
 "cells": [
  {
   "cell_type": "code",
   "execution_count": 46,
   "id": "880573e6",
   "metadata": {},
   "outputs": [
    {
     "name": "stdout",
     "output_type": "stream",
     "text": [
      "[ {[\n",
      "] {\n",
      "} \n",
      "True\n"
     ]
    }
   ],
   "source": [
    "s = \"{[]}\"\n",
    "stack=\"\"\n",
    "for x in s:\n",
    "    stack=stack+x\n",
    "    if len(stack)<2:\n",
    "        continue\n",
    "    if stack[-2:] in ['()','{}','[]']:\n",
    "        stack=stack[:-2]\n",
    "    print(x,stack)\n",
    "print(stack=='')"
   ]
  },
  {
   "cell_type": "code",
   "execution_count": null,
   "id": "cb1a0d51",
   "metadata": {},
   "outputs": [],
   "source": []
  }
 ],
 "metadata": {
  "kernelspec": {
   "display_name": "Python 3",
   "language": "python",
   "name": "python3"
  },
  "language_info": {
   "codemirror_mode": {
    "name": "ipython",
    "version": 3
   },
   "file_extension": ".py",
   "mimetype": "text/x-python",
   "name": "python",
   "nbconvert_exporter": "python",
   "pygments_lexer": "ipython3",
   "version": "3.7.6"
  }
 },
 "nbformat": 4,
 "nbformat_minor": 5
}
