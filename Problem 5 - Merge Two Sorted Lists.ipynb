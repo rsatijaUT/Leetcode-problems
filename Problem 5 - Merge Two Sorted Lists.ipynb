{
 "cells": [
  {
   "cell_type": "code",
   "execution_count": 18,
   "id": "c7fe7691",
   "metadata": {},
   "outputs": [],
   "source": [
    "from typing import Optional\n",
    "# Definition for singly-linked list.\n",
    "class ListNode:\n",
    "    def __init__(self, val=0, next=None):\n",
    "        self.val = val\n",
    "        self.next = next\n",
    "class Solution:\n",
    "    def mergeTwoLists(self, list1: Optional[ListNode], list2: Optional[ListNode]) -> Optional[ListNode]:\n",
    "        t1 = list1\n",
    "        t2 = list2\n",
    "        \n",
    "        #dh -> dummyHead\n",
    "        #dt -> dummyTail\n",
    "        dh = ListNode(-1)\n",
    "        dt = dh\n",
    "        \n",
    "        while t1 and t2:\n",
    "            if t1.val <= t2.val:\n",
    "                dt.next = t1\n",
    "                t1 = t1.next\n",
    "                dt = dt.next\n",
    "            else:\n",
    "                dt.next = t2\n",
    "                t2 = t2.next\n",
    "                dt = dt.next\n",
    "                \n",
    "        if t1:\n",
    "            dt.next = t1\n",
    "        if t2:\n",
    "            dt.next = t2\n",
    "        return dh.next"
   ]
  },
  {
   "cell_type": "code",
   "execution_count": null,
   "id": "5f1c1711",
   "metadata": {},
   "outputs": [],
   "source": []
  }
 ],
 "metadata": {
  "kernelspec": {
   "display_name": "Python 3",
   "language": "python",
   "name": "python3"
  },
  "language_info": {
   "codemirror_mode": {
    "name": "ipython",
    "version": 3
   },
   "file_extension": ".py",
   "mimetype": "text/x-python",
   "name": "python",
   "nbconvert_exporter": "python",
   "pygments_lexer": "ipython3",
   "version": "3.7.6"
  }
 },
 "nbformat": 4,
 "nbformat_minor": 5
}
