{
 "cells": [
  {
   "cell_type": "code",
   "execution_count": 35,
   "id": "2e9703a8",
   "metadata": {},
   "outputs": [
    {
     "data": {
      "text/plain": [
       "(4, [1, 2, 3, 4])"
      ]
     },
     "execution_count": 35,
     "metadata": {},
     "output_type": "execute_result"
    }
   ],
   "source": [
    "def removeDuplicates(nums):\n",
    "    i=0\n",
    "    while i<len(nums)-1:\n",
    "        if nums[i]==nums[i+1]:\n",
    "            nums.pop(i)         # Pop if element is same\n",
    "            i-=1                # Next element will be in the popped element's position\n",
    "        i+=1\n",
    "    # print(nums)\n",
    "    return len(nums)\n",
    "\n",
    "nums=[1,1,1,1,2,2,2,3,3,4]\n",
    "k=removeDuplicates(nums)\n",
    "(k,nums)"
   ]
  },
  {
   "cell_type": "code",
   "execution_count": null,
   "id": "15335931",
   "metadata": {},
   "outputs": [],
   "source": []
  }
 ],
 "metadata": {
  "kernelspec": {
   "display_name": "Python 3",
   "language": "python",
   "name": "python3"
  },
  "language_info": {
   "codemirror_mode": {
    "name": "ipython",
    "version": 3
   },
   "file_extension": ".py",
   "mimetype": "text/x-python",
   "name": "python",
   "nbconvert_exporter": "python",
   "pygments_lexer": "ipython3",
   "version": "3.7.6"
  }
 },
 "nbformat": 4,
 "nbformat_minor": 5
}
