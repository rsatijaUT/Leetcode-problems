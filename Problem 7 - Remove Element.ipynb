{
 "cells": [
  {
   "cell_type": "code",
   "execution_count": null,
   "id": "7d3dbfcb",
   "metadata": {},
   "outputs": [],
   "source": [
    "def removeElement(nums,val):\n",
    "    i=0\n",
    "    for i<len(nums):\n",
    "        if nums[i]==val:\n",
    "            nums.pop(i)\n",
    "            i=i-1\n",
    "        i=i+1\n",
    "    return len(nums)\n",
    "\n",
    "nums=[3,2,2,3]\n",
    "val=3\n",
    "k=removeElement(nums,val)\n",
    "print(k,nums)"
   ]
  }
 ],
 "metadata": {
  "kernelspec": {
   "display_name": "Python 3",
   "language": "python",
   "name": "python3"
  },
  "language_info": {
   "codemirror_mode": {
    "name": "ipython",
    "version": 3
   },
   "file_extension": ".py",
   "mimetype": "text/x-python",
   "name": "python",
   "nbconvert_exporter": "python",
   "pygments_lexer": "ipython3",
   "version": "3.7.6"
  }
 },
 "nbformat": 4,
 "nbformat_minor": 5
}
