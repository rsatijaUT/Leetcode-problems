{
 "cells": [
  {
   "cell_type": "code",
   "execution_count": 10,
   "id": "cb3d727d",
   "metadata": {},
   "outputs": [
    {
     "data": {
      "text/plain": [
       "-1"
      ]
     },
     "execution_count": 10,
     "metadata": {},
     "output_type": "execute_result"
    }
   ],
   "source": [
    "def strstr(haystack,needle):\n",
    "    if needle=='':\n",
    "        return 0\n",
    "    l=len(needle)\n",
    "    i=0\n",
    "    while i+l<len(haystack):\n",
    "        if haystack[i:i+l]==needle:\n",
    "            return i\n",
    "        i=i+1\n",
    "    return -1\n",
    "haystack = \"aaaaa\"\n",
    "needle = \"bba\"\n",
    "strstr(haystack,needle)"
   ]
  },
  {
   "cell_type": "code",
   "execution_count": null,
   "id": "3a6d37d1",
   "metadata": {},
   "outputs": [],
   "source": []
  }
 ],
 "metadata": {
  "kernelspec": {
   "display_name": "Python 3",
   "language": "python",
   "name": "python3"
  },
  "language_info": {
   "codemirror_mode": {
    "name": "ipython",
    "version": 3
   },
   "file_extension": ".py",
   "mimetype": "text/x-python",
   "name": "python",
   "nbconvert_exporter": "python",
   "pygments_lexer": "ipython3",
   "version": "3.7.6"
  }
 },
 "nbformat": 4,
 "nbformat_minor": 5
}
